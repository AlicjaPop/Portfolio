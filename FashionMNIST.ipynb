{
 "cells": [
  {
   "cell_type": "code",
   "execution_count": 1,
   "metadata": {
    "id": "mkcaTbzpyYw3"
   },
   "outputs": [],
   "source": [
    "import tensorflow as tf\n",
    "import tensorflow.keras.layers as layers\n",
    "import numpy as np\n",
    "import matplotlib.pyplot as plt\n",
    "from sklearn.model_selection import train_test_split\n",
    "from tensorflow.keras.callbacks import ReduceLROnPlateau\n",
    "from tensorflow import keras\n",
    "from tensorflow.keras.layers import Dense, Flatten\n",
    "from tensorflow.keras.datasets import fashion_mnist\n",
    "from tensorflow.keras.models import load_model"
   ]
  },
  {
   "cell_type": "code",
   "execution_count": 2,
   "metadata": {
    "id": "Xr5hEXzIyjCF"
   },
   "outputs": [],
   "source": [
    "train, test = tf.keras.datasets.fashion_mnist.load_data()\n",
    "images, labels = train\n",
    "\n",
    "X_train, X_test, y_train, y_test = \\\n",
    "    train_test_split(images, labels, test_size=0.1, random_state=10, stratify=labels)\n",
    "\n",
    "X_train, X_val, y_train, y_val = \\\n",
    "    train_test_split(X_train, y_train, test_size=0.3, random_state=10, stratify=y_train)\n",
    "\n",
    "X_train = np.expand_dims(X_train, axis=-1)\n",
    "X_test = np.expand_dims(X_test, axis=-1)\n",
    "X_val = np.expand_dims(X_val, axis=-1)\n",
    "\n",
    "train_ds = tf.data.Dataset.from_tensor_slices((X_train, y_train))\n",
    "test_ds = tf.data.Dataset.from_tensor_slices((X_test, y_test))\n",
    "val_ds = tf.data.Dataset.from_tensor_slices((X_val, y_val))\n",
    "\n",
    "batch_size=32"
   ]
  },
  {
   "cell_type": "code",
   "execution_count": 3,
   "metadata": {},
   "outputs": [],
   "source": [
    "AUTOTUNE = tf.data.AUTOTUNE\n",
    "def resize_and_rescale(image, label):\n",
    "    image = tf.cast(image, tf.float32)\n",
    "    image = (image / 255.0)\n",
    "    image = tf.image.resize(image, (28, 28))\n",
    "    return image, label\n",
    "\n",
    "def augment(image, label):\n",
    "    image, label = resize_and_rescale(image, label)\n",
    "    image = tf.image.random_flip_up_down(image)\n",
    "    image = tf.image.random_flip_left_right(image)\n",
    "    image = tf.clip_by_value(image, 0, 1)\n",
    "    return image, label\n",
    "\n",
    "train_ds = (\n",
    "    train_ds\n",
    "    .shuffle(3000)\n",
    "    .map(augment, num_parallel_calls=AUTOTUNE)\n",
    "    .batch(batch_size)\n",
    "    .prefetch(AUTOTUNE)\n",
    ")\n",
    "\n",
    "test_ds = (\n",
    "    test_ds\n",
    "    .map(resize_and_rescale, num_parallel_calls=AUTOTUNE)\n",
    "    .batch(batch_size)\n",
    "    .prefetch(AUTOTUNE)\n",
    ")\n",
    "\n",
    "val_ds = (\n",
    "    val_ds\n",
    "    .map(resize_and_rescale, num_parallel_calls=AUTOTUNE)\n",
    "    .batch(batch_size)\n",
    "    .prefetch(AUTOTUNE)\n",
    ")"
   ]
  },
  {
   "cell_type": "code",
   "execution_count": 4,
   "metadata": {
    "id": "fa0dXeFpyZi_"
   },
   "outputs": [],
   "source": [
    "model_1 = tf.keras.Sequential([\n",
    "    layers.Flatten(input_shape=[28, 28, 1]),\n",
    "    layers.Dense(500, activation='relu'),\n",
    "    layers.Dropout(0.1),\n",
    "    layers.Dense(300, activation='relu'),\n",
    "    layers.Dropout(0.1),\n",
    "    layers.Dense(10, activation='softmax')\n",
    "])\n",
    "\n",
    "adam_optim = keras.optimizers.Adam(learning_rate=0.001)\n",
    "\n",
    "model_1.compile(\n",
    "    loss='sparse_categorical_crossentropy',\n",
    "    optimizer=adam_optim,\n",
    "    metrics=['accuracy'])\n",
    "\n",
    "reduce_lr = ReduceLROnPlateau(monitor='val_loss', factor=0.2,\n",
    "                              patience=5, min_lr=0.00001)"
   ]
  },
  {
   "cell_type": "code",
   "execution_count": 5,
   "metadata": {
    "colab": {
     "base_uri": "https://localhost:8080/"
    },
    "id": "H3ZaFO3rzwlE",
    "outputId": "29208847-e0d7-4f45-9916-eb740df60d67"
   },
   "outputs": [
    {
     "name": "stdout",
     "output_type": "stream",
     "text": [
      "Epoch 1/50\n",
      "1182/1182 [==============================] - 15s 12ms/step - loss: 0.6650 - accuracy: 0.7548 - val_loss: 0.4967 - val_accuracy: 0.8125 - lr: 0.0010\n",
      "Epoch 2/50\n",
      "1182/1182 [==============================] - 13s 11ms/step - loss: 0.4978 - accuracy: 0.8196 - val_loss: 0.4766 - val_accuracy: 0.8243 - lr: 0.0010\n",
      "Epoch 3/50\n",
      "1182/1182 [==============================] - 17s 14ms/step - loss: 0.4602 - accuracy: 0.8320 - val_loss: 0.4264 - val_accuracy: 0.8491 - lr: 0.0010\n",
      "Epoch 4/50\n",
      "1182/1182 [==============================] - 15s 13ms/step - loss: 0.4310 - accuracy: 0.8435 - val_loss: 0.4110 - val_accuracy: 0.8495 - lr: 0.0010\n",
      "Epoch 5/50\n",
      "1182/1182 [==============================] - 13s 11ms/step - loss: 0.4108 - accuracy: 0.8505 - val_loss: 0.4194 - val_accuracy: 0.8457 - lr: 0.0010\n",
      "Epoch 6/50\n",
      "1182/1182 [==============================] - 15s 12ms/step - loss: 0.3981 - accuracy: 0.8546 - val_loss: 0.3742 - val_accuracy: 0.8638 - lr: 0.0010\n",
      "Epoch 7/50\n",
      "1182/1182 [==============================] - 17s 14ms/step - loss: 0.3844 - accuracy: 0.8593 - val_loss: 0.3809 - val_accuracy: 0.8641 - lr: 0.0010\n",
      "Epoch 8/50\n",
      "1182/1182 [==============================] - 14s 12ms/step - loss: 0.3777 - accuracy: 0.8622 - val_loss: 0.3749 - val_accuracy: 0.8688 - lr: 0.0010\n",
      "Epoch 9/50\n",
      "1182/1182 [==============================] - 21s 18ms/step - loss: 0.3678 - accuracy: 0.8650 - val_loss: 0.3769 - val_accuracy: 0.8641 - lr: 0.0010\n",
      "Epoch 10/50\n",
      "1182/1182 [==============================] - 16s 14ms/step - loss: 0.3619 - accuracy: 0.8674 - val_loss: 0.3616 - val_accuracy: 0.8704 - lr: 0.0010\n",
      "Epoch 11/50\n",
      "1182/1182 [==============================] - 19s 16ms/step - loss: 0.3561 - accuracy: 0.8667 - val_loss: 0.3577 - val_accuracy: 0.8738 - lr: 0.0010\n",
      "Epoch 12/50\n",
      "1182/1182 [==============================] - 17s 14ms/step - loss: 0.3482 - accuracy: 0.8697 - val_loss: 0.3535 - val_accuracy: 0.8740 - lr: 0.0010\n",
      "Epoch 13/50\n",
      "1182/1182 [==============================] - 14s 12ms/step - loss: 0.3424 - accuracy: 0.8734 - val_loss: 0.3562 - val_accuracy: 0.8744 - lr: 0.0010\n",
      "Epoch 14/50\n",
      "1182/1182 [==============================] - 13s 11ms/step - loss: 0.3390 - accuracy: 0.8745 - val_loss: 0.3734 - val_accuracy: 0.8631 - lr: 0.0010\n",
      "Epoch 15/50\n",
      "1182/1182 [==============================] - 13s 11ms/step - loss: 0.3328 - accuracy: 0.8764 - val_loss: 0.3510 - val_accuracy: 0.8775 - lr: 0.0010\n",
      "Epoch 16/50\n",
      "1182/1182 [==============================] - 13s 11ms/step - loss: 0.3282 - accuracy: 0.8783 - val_loss: 0.3427 - val_accuracy: 0.8771 - lr: 0.0010\n",
      "Epoch 17/50\n",
      "1182/1182 [==============================] - 13s 11ms/step - loss: 0.3237 - accuracy: 0.8801 - val_loss: 0.3637 - val_accuracy: 0.8740 - lr: 0.0010\n",
      "Epoch 18/50\n",
      "1182/1182 [==============================] - 13s 11ms/step - loss: 0.3175 - accuracy: 0.8812 - val_loss: 0.3501 - val_accuracy: 0.8781 - lr: 0.0010\n",
      "Epoch 19/50\n",
      "1182/1182 [==============================] - 13s 11ms/step - loss: 0.3170 - accuracy: 0.8817 - val_loss: 0.3653 - val_accuracy: 0.8680 - lr: 0.0010\n",
      "Epoch 20/50\n",
      "1182/1182 [==============================] - 13s 11ms/step - loss: 0.3104 - accuracy: 0.8837 - val_loss: 0.3489 - val_accuracy: 0.8754 - lr: 0.0010\n",
      "Epoch 21/50\n",
      "1182/1182 [==============================] - 13s 11ms/step - loss: 0.3077 - accuracy: 0.8844 - val_loss: 0.3412 - val_accuracy: 0.8797 - lr: 0.0010\n",
      "Epoch 22/50\n",
      "1182/1182 [==============================] - 13s 11ms/step - loss: 0.3085 - accuracy: 0.8866 - val_loss: 0.3551 - val_accuracy: 0.8772 - lr: 0.0010\n",
      "Epoch 23/50\n",
      "1182/1182 [==============================] - 13s 11ms/step - loss: 0.3027 - accuracy: 0.8867 - val_loss: 0.3338 - val_accuracy: 0.8809 - lr: 0.0010\n",
      "Epoch 24/50\n",
      "1182/1182 [==============================] - 13s 11ms/step - loss: 0.2978 - accuracy: 0.8911 - val_loss: 0.3475 - val_accuracy: 0.8798 - lr: 0.0010\n",
      "Epoch 25/50\n",
      "1182/1182 [==============================] - 15s 13ms/step - loss: 0.2961 - accuracy: 0.8882 - val_loss: 0.3494 - val_accuracy: 0.8796 - lr: 0.0010\n",
      "Epoch 26/50\n",
      "1182/1182 [==============================] - 14s 12ms/step - loss: 0.2926 - accuracy: 0.8916 - val_loss: 0.3370 - val_accuracy: 0.8802 - lr: 0.0010\n",
      "Epoch 27/50\n",
      "1182/1182 [==============================] - 14s 12ms/step - loss: 0.2894 - accuracy: 0.8922 - val_loss: 0.3454 - val_accuracy: 0.8810 - lr: 0.0010\n",
      "Epoch 28/50\n",
      "1182/1182 [==============================] - 14s 12ms/step - loss: 0.2858 - accuracy: 0.8913 - val_loss: 0.3408 - val_accuracy: 0.8794 - lr: 0.0010\n",
      "Epoch 29/50\n",
      "1182/1182 [==============================] - 13s 11ms/step - loss: 0.2443 - accuracy: 0.9078 - val_loss: 0.3084 - val_accuracy: 0.8935 - lr: 2.0000e-04\n",
      "Epoch 30/50\n",
      "1182/1182 [==============================] - 13s 11ms/step - loss: 0.2357 - accuracy: 0.9106 - val_loss: 0.3033 - val_accuracy: 0.8944 - lr: 2.0000e-04\n",
      "Epoch 31/50\n",
      "1182/1182 [==============================] - 13s 11ms/step - loss: 0.2288 - accuracy: 0.9117 - val_loss: 0.3092 - val_accuracy: 0.8948 - lr: 2.0000e-04\n",
      "Epoch 32/50\n",
      "1182/1182 [==============================] - 13s 11ms/step - loss: 0.2259 - accuracy: 0.9140 - val_loss: 0.3034 - val_accuracy: 0.8954 - lr: 2.0000e-04\n",
      "Epoch 33/50\n",
      "1182/1182 [==============================] - 13s 11ms/step - loss: 0.2227 - accuracy: 0.9155 - val_loss: 0.3081 - val_accuracy: 0.8938 - lr: 2.0000e-04\n",
      "Epoch 34/50\n",
      "1182/1182 [==============================] - 14s 12ms/step - loss: 0.2188 - accuracy: 0.9152 - val_loss: 0.3078 - val_accuracy: 0.8940 - lr: 2.0000e-04\n",
      "Epoch 35/50\n",
      "1182/1182 [==============================] - 14s 12ms/step - loss: 0.2186 - accuracy: 0.9166 - val_loss: 0.3121 - val_accuracy: 0.8970 - lr: 2.0000e-04\n",
      "Epoch 36/50\n",
      "1182/1182 [==============================] - 14s 12ms/step - loss: 0.2101 - accuracy: 0.9184 - val_loss: 0.3074 - val_accuracy: 0.8978 - lr: 4.0000e-05\n",
      "Epoch 37/50\n",
      "1182/1182 [==============================] - 17s 14ms/step - loss: 0.2054 - accuracy: 0.9212 - val_loss: 0.3063 - val_accuracy: 0.8986 - lr: 4.0000e-05\n",
      "Epoch 38/50\n",
      "1182/1182 [==============================] - 13s 11ms/step - loss: 0.2061 - accuracy: 0.9215 - val_loss: 0.3085 - val_accuracy: 0.8977 - lr: 4.0000e-05\n",
      "Epoch 39/50\n",
      "1182/1182 [==============================] - 14s 11ms/step - loss: 0.2045 - accuracy: 0.9212 - val_loss: 0.3097 - val_accuracy: 0.8979 - lr: 4.0000e-05\n",
      "Epoch 40/50\n",
      "1182/1182 [==============================] - 13s 11ms/step - loss: 0.2028 - accuracy: 0.9223 - val_loss: 0.3055 - val_accuracy: 0.8984 - lr: 4.0000e-05\n",
      "Epoch 41/50\n",
      "1182/1182 [==============================] - 13s 11ms/step - loss: 0.1988 - accuracy: 0.9243 - val_loss: 0.3056 - val_accuracy: 0.8993 - lr: 1.0000e-05\n",
      "Epoch 42/50\n",
      "1182/1182 [==============================] - 13s 11ms/step - loss: 0.2006 - accuracy: 0.9226 - val_loss: 0.3068 - val_accuracy: 0.8999 - lr: 1.0000e-05\n",
      "Epoch 43/50\n",
      "1182/1182 [==============================] - 14s 12ms/step - loss: 0.2000 - accuracy: 0.9237 - val_loss: 0.3065 - val_accuracy: 0.8999 - lr: 1.0000e-05\n",
      "Epoch 44/50\n",
      "1182/1182 [==============================] - 14s 12ms/step - loss: 0.1993 - accuracy: 0.9218 - val_loss: 0.3066 - val_accuracy: 0.8999 - lr: 1.0000e-05\n",
      "Epoch 45/50\n",
      "1182/1182 [==============================] - 14s 12ms/step - loss: 0.1995 - accuracy: 0.9225 - val_loss: 0.3065 - val_accuracy: 0.9000 - lr: 1.0000e-05\n",
      "Epoch 46/50\n",
      "1182/1182 [==============================] - 14s 11ms/step - loss: 0.2003 - accuracy: 0.9227 - val_loss: 0.3069 - val_accuracy: 0.8999 - lr: 1.0000e-05\n",
      "Epoch 47/50\n",
      "1182/1182 [==============================] - 18s 15ms/step - loss: 0.2004 - accuracy: 0.9223 - val_loss: 0.3065 - val_accuracy: 0.9002 - lr: 1.0000e-05\n",
      "Epoch 48/50\n",
      "1182/1182 [==============================] - 18s 15ms/step - loss: 0.2002 - accuracy: 0.9229 - val_loss: 0.3061 - val_accuracy: 0.9005 - lr: 1.0000e-05\n",
      "Epoch 49/50\n",
      "1182/1182 [==============================] - 14s 12ms/step - loss: 0.1992 - accuracy: 0.9232 - val_loss: 0.3057 - val_accuracy: 0.9001 - lr: 1.0000e-05\n",
      "Epoch 50/50\n",
      "1182/1182 [==============================] - 13s 11ms/step - loss: 0.1985 - accuracy: 0.9232 - val_loss: 0.3061 - val_accuracy: 0.9001 - lr: 1.0000e-05\n"
     ]
    }
   ],
   "source": [
    "train_model = model_1.fit(train_ds, epochs=50,  batch_size=32, verbose=1, callbacks=[reduce_lr], validation_data=val_ds)"
   ]
  },
  {
   "cell_type": "code",
   "execution_count": 6,
   "metadata": {
    "colab": {
     "base_uri": "https://localhost:8080/"
    },
    "id": "HJqFfQbkXFVB",
    "outputId": "b2f4278c-2506-4d3d-f83b-c775013e2206"
   },
   "outputs": [
    {
     "name": "stdout",
     "output_type": "stream",
     "text": [
      "188/188 [==============================] - 1s 3ms/step - loss: 63.4200 - accuracy: 0.8482\n",
      "Test Accuracy: [63.42000961303711, 0.8481666445732117]\n"
     ]
    }
   ],
   "source": [
    "test_accuracy = model_1.evaluate(X_test, y_test)\n",
    "print('Test Accuracy:', test_accuracy)"
   ]
  },
  {
   "cell_type": "code",
   "execution_count": 7,
   "metadata": {
    "id": "w0gRNoB6QgEk"
   },
   "outputs": [],
   "source": [
    "def display_prediction(image):\n",
    "    image = np.expand_dims(image, axis=0)\n",
    "    prediction = model_1.predict(image)\n",
    "    predicted_label = np.argmax(prediction)\n",
    "    class_names = ['T-shirt/top', 'Trouser', 'Pullover', 'Dress', 'Coat',\n",
    "                   'Sandal', 'Shirt', 'Sneaker', 'Bag', 'Ankle boot']\n",
    "\n",
    "    plt.imshow(image.squeeze(), cmap='gray')\n",
    "    plt.title(f'Predicted Label: {class_names[predicted_label]}')\n",
    "    plt.axis('off')\n",
    "    plt.show()"
   ]
  },
  {
   "cell_type": "code",
   "execution_count": 8,
   "metadata": {
    "colab": {
     "base_uri": "https://localhost:8080/",
     "height": 446
    },
    "id": "XT2HJ4syn6RF",
    "outputId": "340a614b-568a-461a-bb14-e411258705b2"
   },
   "outputs": [
    {
     "name": "stdout",
     "output_type": "stream",
     "text": [
      "1/1 [==============================] - 0s 90ms/step\n"
     ]
    },
    {
     "data": {
      "image/png": "[encoded data removed]",
      "text/plain": [
       "<Figure size 640x480 with 1 Axes>"
      ]
     },
     "metadata": {},
     "output_type": "display_data"
    }
   ],
   "source": [
    "random_index = np.random.randint(len(X_test))\n",
    "random_image = X_test[random_index]\n",
    "\n",
    "display_prediction(random_image)"
   ]
  },
  {
   "cell_type": "code",
   "execution_count": null,
   "metadata": {},
   "outputs": [],
   "source": []
  },
  {
   "cell_type": "code",
   "execution_count": null,
   "metadata": {},
   "outputs": [],
   "source": []
  }
 ],
 "metadata": {
  "colab": {
   "provenance": []
  },
  "kernelspec": {
   "display_name": "Python 3 (ipykernel)",
   "language": "python",
   "name": "python3"
  },
  "language_info": {
   "codemirror_mode": {
    "name": "ipython",
    "version": 3
   },
   "file_extension": ".py",
   "mimetype": "text/x-python",
   "name": "python",
   "nbconvert_exporter": "python",
   "pygments_lexer": "ipython3",
   "version": "3.9.13"
  }
 },
 "nbformat": 4,
 "nbformat_minor": 1
}
